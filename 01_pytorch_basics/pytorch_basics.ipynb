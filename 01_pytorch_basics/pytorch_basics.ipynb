{
 "cells": [
  {
   "cell_type": "markdown",
   "metadata": {},
   "source": [
    "# PyTorch Basics\n",
    "\n",
    "This notebook covers the fundamental concepts of PyTorch, including tensors, operations, and computational graphs."
   ]
  },
  {
   "cell_type": "code",
   "execution_count": 40,
   "metadata": {},
   "outputs": [
    {
     "name": "stdout",
     "output_type": "stream",
     "text": [
      "PyTorch version: 2.1.2+cu121\n"
     ]
    }
   ],
   "source": [
    "import torch\n",
    "import numpy as np\n",
    "import matplotlib.pyplot as plt\n",
    "\n",
    "# Check PyTorch version\n",
    "print(f\"PyTorch version: {torch.__version__}\")"
   ]
  },
  {
   "cell_type": "markdown",
   "metadata": {},
   "source": [
    "## 1. Tensors\n",
    "\n",
    "Tensors are the fundamental data structure in PyTorch, similar to NumPy arrays but with additional capabilities like GPU acceleration and automatic differentiation."
   ]
  },
  {
   "cell_type": "markdown",
   "metadata": {},
   "source": [
    "### 1.1 Creating Tensors"
   ]
  },
  {
   "cell_type": "code",
   "execution_count": 41,
   "metadata": {},
   "outputs": [
    {
     "name": "stdout",
     "output_type": "stream",
     "text": [
      "Tensor from list: tensor([1, 2, 3, 4])\n",
      "\n",
      "Matrix:\n",
      "tensor([[1, 2],\n",
      "        [3, 4]])\n",
      "\n",
      "Float tensor: tensor([1., 2., 3.])\n",
      "Integer tensor: tensor([1, 2, 3])\n"
     ]
    }
   ],
   "source": [
    "# Create a tensor from a Python list\n",
    "x = torch.tensor([1, 2, 3, 4])\n",
    "print(f\"Tensor from list: {x}\")\n",
    "\n",
    "# Create a 2D tensor (matrix)\n",
    "matrix = torch.tensor([[1, 2], [3, 4]])\n",
    "print(f\"\\nMatrix:\\n{matrix}\")\n",
    "\n",
    "# Create tensors with specific data types\n",
    "float_tensor = torch.tensor([1.0, 2.0, 3.0], dtype=torch.float32)\n",
    "int_tensor = torch.tensor([1, 2, 3], dtype=torch.int64)\n",
    "print(f\"\\nFloat tensor: {float_tensor}\")\n",
    "print(f\"Integer tensor: {int_tensor}\")"
   ]
  },
  {
   "cell_type": "code",
   "execution_count": 42,
   "metadata": {},
   "outputs": [
    {
     "name": "stdout",
     "output_type": "stream",
     "text": [
      "Zeros tensor:\n",
      "tensor([[0., 0., 0., 0.],\n",
      "        [0., 0., 0., 0.],\n",
      "        [0., 0., 0., 0.]])\n",
      "\n",
      "Ones tensor:\n",
      "tensor([[1., 1., 1.],\n",
      "        [1., 1., 1.]])\n",
      "\n",
      "Random uniform tensor:\n",
      "tensor([[0.0874, 0.0807],\n",
      "        [0.6629, 0.7828]])\n",
      "\n",
      "Random normal tensor:\n",
      "tensor([[-0.4919,  0.1951],\n",
      "        [ 0.3351,  1.4834]])\n"
     ]
    }
   ],
   "source": [
    "# Create tensors with specific shapes\n",
    "zeros = torch.zeros(3, 4)\n",
    "ones = torch.ones(2, 3)\n",
    "rand = torch.rand(2, 2)  # Uniform distribution [0, 1)\n",
    "randn = torch.randn(2, 2)  # Normal distribution (mean=0, std=1)\n",
    "\n",
    "print(f\"Zeros tensor:\\n{zeros}\")\n",
    "print(f\"\\nOnes tensor:\\n{ones}\")\n",
    "print(f\"\\nRandom uniform tensor:\\n{rand}\")\n",
    "print(f\"\\nRandom normal tensor:\\n{randn}\")"
   ]
  },
  {
   "cell_type": "code",
   "execution_count": 43,
   "metadata": {},
   "outputs": [
    {
     "name": "stdout",
     "output_type": "stream",
     "text": [
      "Range tensor: tensor([0, 1, 2, 3, 4, 5, 6, 7, 8, 9])\n",
      "Linspace tensor: tensor([0.0000, 0.2500, 0.5000, 0.7500, 1.0000])\n",
      "\n",
      "Identity matrix:\n",
      "tensor([[1., 0., 0.],\n",
      "        [0., 1., 0.],\n",
      "        [0., 0., 1.]])\n"
     ]
    }
   ],
   "source": [
    "# Create a tensor with a specific range\n",
    "range_tensor = torch.arange(0, 10, step=1)\n",
    "linspace = torch.linspace(0, 1, steps=5)\n",
    "print(f\"Range tensor: {range_tensor}\")\n",
    "print(f\"Linspace tensor: {linspace}\")\n",
    "\n",
    "# Create an identity matrix\n",
    "eye = torch.eye(3)\n",
    "print(f\"\\nIdentity matrix:\\n{eye}\")"
   ]
  },
  {
   "cell_type": "markdown",
   "metadata": {},
   "source": [
    "### 1.2 Tensor Attributes"
   ]
  },
  {
   "cell_type": "code",
   "execution_count": 44,
   "metadata": {},
   "outputs": [
    {
     "name": "stdout",
     "output_type": "stream",
     "text": [
      "Tensor shape: torch.Size([3, 4, 5])\n",
      "Tensor size: torch.Size([3, 4, 5])\n",
      "Number of dimensions: 3\n",
      "Data type: torch.float32\n",
      "Device: cpu\n"
     ]
    }
   ],
   "source": [
    "x = torch.randn(3, 4, 5)\n",
    "\n",
    "print(f\"Tensor shape: {x.shape}\")\n",
    "print(f\"Tensor size: {x.size()}\")\n",
    "print(f\"Number of dimensions: {x.dim()}\")\n",
    "print(f\"Data type: {x.dtype}\")\n",
    "print(f\"Device: {x.device}\")"
   ]
  },
  {
   "cell_type": "markdown",
   "metadata": {},
   "source": [
    "### 1.3 Tensor Indexing and Slicing"
   ]
  },
  {
   "cell_type": "code",
   "execution_count": 45,
   "metadata": {},
   "outputs": [
    {
     "name": "stdout",
     "output_type": "stream",
     "text": [
      "Original tensor:\n",
      "tensor([[1, 2, 3],\n",
      "        [4, 5, 6],\n",
      "        [7, 8, 9]])\n",
      "\n",
      "Indexing:\n",
      "x[0, 0] = 1\n",
      "x[1, 2] = 6\n",
      "\n",
      "Slicing:\n",
      "First column:\n",
      "tensor([1, 4, 7])\n",
      "Second row:\n",
      "tensor([4, 5, 6])\n",
      "Sub-matrix (top-right 2x2):\n",
      "tensor([[2, 3],\n",
      "        [5, 6]])\n"
     ]
    }
   ],
   "source": [
    "x = torch.tensor([[1, 2, 3], [4, 5, 6], [7, 8, 9]])\n",
    "print(f\"Original tensor:\\n{x}\")\n",
    "\n",
    "# Indexing\n",
    "print(f\"\\nIndexing:\")\n",
    "print(f\"x[0, 0] = {x[0, 0]}\")\n",
    "print(f\"x[1, 2] = {x[1, 2]}\")\n",
    "\n",
    "# Slicing\n",
    "print(f\"\\nSlicing:\")\n",
    "print(f\"First column:\\n{x[:, 0]}\")\n",
    "print(f\"Second row:\\n{x[1, :]}\")\n",
    "print(f\"Sub-matrix (top-right 2x2):\\n{x[0:2, 1:3]}\")"
   ]
  },
  {
   "cell_type": "code",
   "execution_count": 46,
   "metadata": {},
   "outputs": [
    {
     "name": "stdout",
     "output_type": "stream",
     "text": [
      "Advanced indexing with indices [0, 2]:\n",
      "tensor([[1, 2, 3],\n",
      "        [7, 8, 9]])\n",
      "\n",
      "Boolean mask (x > 5):\n",
      "tensor([[False, False, False],\n",
      "        [False, False,  True],\n",
      "        [ True,  True,  True]])\n",
      "Elements where x > 5:\n",
      "tensor([6, 7, 8, 9])\n"
     ]
    }
   ],
   "source": [
    "# Advanced indexing\n",
    "indices = torch.tensor([0, 2])\n",
    "print(f\"Advanced indexing with indices [0, 2]:\\n{x[indices]}\")\n",
    "\n",
    "# Boolean indexing\n",
    "mask = x > 5\n",
    "print(f\"\\nBoolean mask (x > 5):\\n{mask}\")\n",
    "print(f\"Elements where x > 5:\\n{x[mask]}\")"
   ]
  },
  {
   "cell_type": "markdown",
   "metadata": {},
   "source": [
    "## 2. Tensor Operations\n",
    "\n",
    "PyTorch provides a wide range of operations for manipulating tensors."
   ]
  },
  {
   "cell_type": "markdown",
   "metadata": {},
   "source": [
    "### 2.1 Arithmetic Operations"
   ]
  },
  {
   "cell_type": "code",
   "execution_count": 47,
   "metadata": {},
   "outputs": [
    {
     "name": "stdout",
     "output_type": "stream",
     "text": [
      "a = tensor([1, 2, 3])\n",
      "b = tensor([4, 5, 6])\n",
      "a + b = tensor([5, 7, 9])\n",
      "torch.add(a, b) = tensor([5, 7, 9])\n",
      "a - b = tensor([-3, -3, -3])\n",
      "torch.sub(a, b) = tensor([-3, -3, -3])\n",
      "a * b = tensor([ 4, 10, 18])\n",
      "torch.mul(a, b) = tensor([ 4, 10, 18])\n",
      "a / b = tensor([0.2500, 0.4000, 0.5000])\n",
      "torch.div(a, b) = tensor([0.2500, 0.4000, 0.5000])\n"
     ]
    }
   ],
   "source": [
    "a = torch.tensor([1, 2, 3])\n",
    "b = torch.tensor([4, 5, 6])\n",
    "\n",
    "print(f\"a = {a}\")\n",
    "print(f\"b = {b}\")\n",
    "\n",
    "# Addition\n",
    "print(f\"a + b = {a + b}\")\n",
    "print(f\"torch.add(a, b) = {torch.add(a, b)}\")\n",
    "\n",
    "# Subtraction\n",
    "print(f\"a - b = {a - b}\")\n",
    "print(f\"torch.sub(a, b) = {torch.sub(a, b)}\")\n",
    "\n",
    "# Multiplication (element-wise)\n",
    "print(f\"a * b = {a * b}\")\n",
    "print(f\"torch.mul(a, b) = {torch.mul(a, b)}\")\n",
    "\n",
    "# Division (element-wise)\n",
    "print(f\"a / b = {a / b}\")\n",
    "print(f\"torch.div(a, b) = {torch.div(a, b)}\")"
   ]
  },
  {
   "cell_type": "code",
   "execution_count": 48,
   "metadata": {},
   "outputs": [
    {
     "name": "stdout",
     "output_type": "stream",
     "text": [
      "Original c = tensor([1, 2, 3])\n",
      "After c.add_(b), c = tensor([5, 7, 9])\n"
     ]
    }
   ],
   "source": [
    "# In-place operations (modifies the tensor)\n",
    "c = torch.tensor([1, 2, 3])\n",
    "print(f\"Original c = {c}\")\n",
    "\n",
    "c.add_(b)  # Note the underscore suffix for in-place operations\n",
    "print(f\"After c.add_(b), c = {c}\")"
   ]
  },
  {
   "cell_type": "markdown",
   "metadata": {},
   "source": [
    "### 2.2 Matrix Operations"
   ]
  },
  {
   "cell_type": "code",
   "execution_count": 49,
   "metadata": {},
   "outputs": [
    {
     "name": "stdout",
     "output_type": "stream",
     "text": [
      "Matrix a:\n",
      "tensor([[1, 2],\n",
      "        [3, 4]])\n",
      "Matrix b:\n",
      "tensor([[5, 6],\n",
      "        [7, 8]])\n",
      "\n",
      "Matrix multiplication (torch.matmul(a, b)):\n",
      "tensor([[19, 22],\n",
      "        [43, 50]])\n",
      "Matrix multiplication (a @ b):\n",
      "tensor([[19, 22],\n",
      "        [43, 50]])\n",
      "\n",
      "Element-wise multiplication (a * b):\n",
      "tensor([[ 5, 12],\n",
      "        [21, 32]])\n",
      "\n",
      "Transpose of a:\n",
      "tensor([[1, 3],\n",
      "        [2, 4]])\n"
     ]
    }
   ],
   "source": [
    "a = torch.tensor([[1, 2], [3, 4]])\n",
    "b = torch.tensor([[5, 6], [7, 8]])\n",
    "\n",
    "print(f\"Matrix a:\\n{a}\")\n",
    "print(f\"Matrix b:\\n{b}\")\n",
    "\n",
    "# Matrix multiplication\n",
    "print(f\"\\nMatrix multiplication (torch.matmul(a, b)):\\n{torch.matmul(a, b)}\")\n",
    "print(f\"Matrix multiplication (a @ b):\\n{a @ b}\")\n",
    "\n",
    "# Element-wise multiplication\n",
    "print(f\"\\nElement-wise multiplication (a * b):\\n{a * b}\")\n",
    "\n",
    "# Transpose\n",
    "print(f\"\\nTranspose of a:\\n{a.t()}\")"
   ]
  },
  {
   "cell_type": "code",
   "execution_count": 50,
   "metadata": {},
   "outputs": [
    {
     "name": "stdout",
     "output_type": "stream",
     "text": [
      "Determinant of a: -2.0\n",
      "Inverse of a:\n",
      "tensor([[-2.0000,  1.0000],\n",
      "        [ 1.5000, -0.5000]])\n"
     ]
    }
   ],
   "source": [
    "# Determinant\n",
    "print(f\"Determinant of a: {torch.det(a.float())}\")\n",
    "\n",
    "# Inverse\n",
    "print(f\"Inverse of a:\\n{torch.inverse(a.float())}\")"
   ]
  },
  {
   "cell_type": "markdown",
   "metadata": {},
   "source": [
    "### 2.3 Reduction Operations"
   ]
  },
  {
   "cell_type": "code",
   "execution_count": 51,
   "metadata": {},
   "outputs": [
    {
     "name": "stdout",
     "output_type": "stream",
     "text": [
      "Tensor x:\n",
      "tensor([[1, 2, 3],\n",
      "        [4, 5, 6]])\n",
      "\n",
      "Sum of all elements: 21\n",
      "Sum along rows (dim=0): tensor([5, 7, 9])\n",
      "Sum along columns (dim=1): tensor([ 6, 15])\n",
      "\n",
      "Mean of all elements: 3.5\n",
      "Mean along rows (dim=0): tensor([2.5000, 3.5000, 4.5000])\n",
      "Mean along columns (dim=1): tensor([2., 5.])\n"
     ]
    }
   ],
   "source": [
    "x = torch.tensor([[1, 2, 3], [4, 5, 6]])\n",
    "print(f\"Tensor x:\\n{x}\")\n",
    "\n",
    "# Sum\n",
    "print(f\"\\nSum of all elements: {torch.sum(x)}\")\n",
    "#这里注意是规约到哪个维度的意思，dim=0是行，dim=1是列，规约到行就只剩下行。\n",
    "print(f\"Sum along rows (dim=0): {x.sum(dim=0)}\")\n",
    "print(f\"Sum along columns (dim=1): {x.sum(dim=1)}\")\n",
    "\n",
    "# Mean\n",
    "print(f\"\\nMean of all elements: {torch.mean(x.float())}\")\n",
    "print(f\"Mean along rows (dim=0): {x.float().mean(dim=0)}\")\n",
    "print(f\"Mean along columns (dim=1): {x.float().mean(dim=1)}\")"
   ]
  },
  {
   "cell_type": "code",
   "execution_count": 52,
   "metadata": {},
   "outputs": [
    {
     "name": "stdout",
     "output_type": "stream",
     "text": [
      "Max of all elements: 6\n",
      "Max along rows (dim=0): values=tensor([4, 5, 6]), indices=tensor([1, 1, 1])\n",
      "Min of all elements: 1\n",
      "Product of all elements: 720\n"
     ]
    }
   ],
   "source": [
    "# Max and Min\n",
    "print(f\"Max of all elements: {torch.max(x)}\")\n",
    "max_values, max_indices = x.max(dim=0)\n",
    "print(f\"Max along rows (dim=0): values={max_values}, indices={max_indices}\")\n",
    "print(f\"Min of all elements: {torch.min(x)}\")\n",
    "\n",
    "# Product\n",
    "print(f\"Product of all elements: {torch.prod(x)}\")"
   ]
  },
  {
   "cell_type": "markdown",
   "metadata": {},
   "source": [
    "### 2.4 Reshaping Operations"
   ]
  },
  {
   "cell_type": "code",
   "execution_count": 53,
   "metadata": {},
   "outputs": [
    {
     "name": "stdout",
     "output_type": "stream",
     "text": [
      "Original tensor x:\n",
      "tensor([[1, 2, 3],\n",
      "        [4, 5, 6]])\n",
      "\n",
      "Reshape to (3, 2):\n",
      "tensor([[1, 2],\n",
      "        [3, 4],\n",
      "        [5, 6]])\n",
      "\n",
      "View as (6, 1):\n",
      "tensor([[1],\n",
      "        [2],\n",
      "        [3],\n",
      "        [4],\n",
      "        [5],\n",
      "        [6]])\n",
      "\n",
      "Flatten: tensor([1, 2, 3, 4, 5, 6])\n"
     ]
    }
   ],
   "source": [
    "x = torch.tensor([[1, 2, 3], [4, 5, 6]])\n",
    "print(f\"Original tensor x:\\n{x}\")\n",
    "\n",
    "# Reshape\n",
    "print(f\"\\nReshape to (3, 2):\\n{x.reshape(3, 2)}\")\n",
    "\n",
    "# View (shares the same data with the original tensor)\n",
    "print(f\"\\nView as (6, 1):\\n{x.view(6, 1)}\")\n",
    "\n",
    "# Flatten\n",
    "print(f\"\\nFlatten: {x.flatten()}\")"
   ]
  },
  {
   "cell_type": "code",
   "execution_count": 54,
   "metadata": {},
   "outputs": [
    {
     "name": "stdout",
     "output_type": "stream",
     "text": [
      "Original tensor y with shape torch.Size([2, 2, 2]):\n",
      "tensor([[[1, 2],\n",
      "         [3, 4]],\n",
      "\n",
      "        [[5, 6],\n",
      "         [7, 8]]])\n",
      "\n",
      "Permute dimensions (2, 0, 1) with shape torch.Size([2, 2, 2]):\n",
      "tensor([[[1, 3],\n",
      "         [5, 7]],\n",
      "\n",
      "        [[2, 4],\n",
      "         [6, 8]]])\n",
      "\n",
      "Original tensor z with shape torch.Size([1, 2, 1]):\n",
      "tensor([[[1],\n",
      "         [2]]])\n",
      "Squeeze z with shape torch.Size([2]): tensor([1, 2])\n",
      "Squeeze dimension 0 with shape torch.Size([2, 1]):\n",
      "tensor([[1],\n",
      "        [2]])\n",
      "Unsqueeze x at dimension 0 with shape torch.Size([1, 2, 3]):\n",
      "tensor([[[1, 2, 3],\n",
      "         [4, 5, 6]]])\n"
     ]
    }
   ],
   "source": [
    "# Permute dimensions\n",
    "y = torch.tensor([[[1, 2], [3, 4]], [[5, 6], [7, 8]]])  # Shape: (2, 2, 2)\n",
    "print(f\"Original tensor y with shape {y.shape}:\\n{y}\")\n",
    "#这里注意x.permute(2, 0, 1)是合法的，但是torch.permute(x)是不合法的, torch.trnaspose(x)也是合法的,X.transpose(2,0,1)也是合法的\n",
    "\n",
    "#变化原理首先从数值和变化去理解，不要从形状理解\n",
    "\n",
    "# 原索引 (0, 0, 0)，值为 1\n",
    "\n",
    "# 在 permute(2, 0, 1) 后：\n",
    "\n",
    "# 原 dim=0 → 新 dim=1\n",
    "\n",
    "# 原 dim=1 → 新 dim=2\n",
    "\n",
    "# 原 dim=2 → 新 dim=0\n",
    "\n",
    "# 所以新索引就是 (0, 0, 0) → 对应值仍为 1\n",
    "\n",
    "# 再看另一个：\n",
    "\n",
    "# 原索引 (1, 1, 0)，值为 7\n",
    "# → 新索引：\n",
    "\n",
    "# dim=2 → dim=0 → 0\n",
    "\n",
    "# dim=0 → dim=1 → 1\n",
    "\n",
    "# dim=1 → dim=2 → 1\n",
    "\n",
    "# 变成 (0, 1, 1)，值是 7 ✔️\n",
    "\n",
    "#两者的区别\n",
    "# 比项\ttranspose\tpermute\n",
    "# 支持维度交换\t只能交换 2 个\t可交换任意多个维度\n",
    "# 是否改变数据\t都不拷贝数据（只改变视图）\t都是 zero-copy 操作\n",
    "# 是否会导致 .view() 报错\t有可能（内存不连续）\t更容易触发，通常需要 .contiguous()\n",
    "# 通常使用场景\t图像 (B, C, H, W) ↔ (B, H, W, C) 等\tRNN、Transformer 等高维结构变换\n",
    "\n",
    "print(f\"\\nPermute dimensions (2, 0, 1) with shape {y.permute(2, 0, 1).shape}:\\n{y.permute(2, 0, 1)}\")\n",
    "\n",
    "# Squeeze and Unsqueeze\n",
    "z = torch.tensor([[[1], [2]]])  # Shape: (1, 2, 1)\n",
    "print(f\"\\nOriginal tensor z with shape {z.shape}:\\n{z}\")\n",
    "print(f\"Squeeze z with shape {z.squeeze().shape}: {z.squeeze()}\")\n",
    "#这个下标的意思是要移除哪个轴\n",
    "print(f\"Squeeze dimension 0 with shape {z.squeeze(0).shape}:\\n{z.squeeze(0)}\")\n",
    "print(f\"Unsqueeze x at dimension 0 with shape {torch.unsqueeze(x, 0).shape}:\\n{torch.unsqueeze(x, 0)}\")"
   ]
  },
  {
   "cell_type": "markdown",
   "metadata": {},
   "source": [
    "## 3. NumPy Integration\n",
    "\n",
    "PyTorch provides seamless integration with NumPy, allowing you to convert between PyTorch tensors and NumPy arrays."
   ]
  },
  {
   "cell_type": "code",
   "execution_count": 55,
   "metadata": {},
   "outputs": [
    {
     "name": "stdout",
     "output_type": "stream",
     "text": [
      "NumPy array: [1 2 3]\n",
      "PyTorch tensor from NumPy: tensor([1, 2, 3])\n",
      "\n",
      "PyTorch tensor: tensor([4, 5, 6])\n",
      "NumPy array from tensor: [4 5 6]\n"
     ]
    }
   ],
   "source": [
    "# Convert NumPy array to PyTorch tensor\n",
    "np_array = np.array([1, 2, 3])\n",
    "tensor = torch.from_numpy(np_array)\n",
    "print(f\"NumPy array: {np_array}\")\n",
    "print(f\"PyTorch tensor from NumPy: {tensor}\")\n",
    "\n",
    "# Convert PyTorch tensor to NumPy array\n",
    "tensor = torch.tensor([4, 5, 6])\n",
    "np_array = tensor.numpy()\n",
    "print(f\"\\nPyTorch tensor: {tensor}\")\n",
    "print(f\"NumPy array from tensor: {np_array}\")"
   ]
  },
  {
   "cell_type": "code",
   "execution_count": 56,
   "metadata": {},
   "outputs": [
    {
     "name": "stdout",
     "output_type": "stream",
     "text": [
      "Original NumPy array: [1 2 3]\n",
      "Original tensor: tensor([1, 2, 3])\n",
      "\n",
      "Modified NumPy array: [5 2 3]\n",
      "Tensor after NumPy modification: tensor([5, 2, 3])\n"
     ]
    }
   ],
   "source": [
    "#转换后他们是共享的\n",
    "# Shared memory demonstration\n",
    "np_array = np.array([1, 2, 3])\n",
    "tensor = torch.from_numpy(np_array)\n",
    "print(f\"Original NumPy array: {np_array}\")\n",
    "print(f\"Original tensor: {tensor}\")\n",
    "\n",
    "np_array[0] = 5\n",
    "print(f\"\\nModified NumPy array: {np_array}\")\n",
    "print(f\"Tensor after NumPy modification: {tensor}\")"
   ]
  },
  {
   "cell_type": "markdown",
   "metadata": {},
   "source": [
    "## 4. GPU Acceleration\n",
    "\n",
    "One of the key features of PyTorch is its ability to leverage GPU acceleration for faster computations."
   ]
  },
  {
   "cell_type": "code",
   "execution_count": 57,
   "metadata": {},
   "outputs": [
    {
     "name": "stdout",
     "output_type": "stream",
     "text": [
      "CUDA available: True\n",
      "Using CUDA device\n",
      "Tensor created on GPU: tensor([1, 2, 3], device='cuda:0')\n",
      "Tensor moved from CPU to GPU: tensor([4, 5, 6], device='cuda:0')\n",
      "Tensor moved back to CPU: tensor([4, 5, 6])\n"
     ]
    }
   ],
   "source": [
    "# Check if CUDA (NVIDIA GPU) is available\n",
    "cuda_available = torch.cuda.is_available()\n",
    "print(f\"CUDA available: {cuda_available}\")\n",
    "\n",
    "# Create tensors on CPU or GPU\n",
    "if cuda_available:\n",
    "    device = torch.device(\"cuda\")\n",
    "    print(\"Using CUDA device\")\n",
    "    \n",
    "    # Create tensor directly on GPU\n",
    "    x_gpu = torch.tensor([1, 2, 3], device=device)\n",
    "    print(f\"Tensor created on GPU: {x_gpu}\")\n",
    "    \n",
    "    # Move tensor from CPU to GPU\n",
    "    x_cpu = torch.tensor([4, 5, 6])\n",
    "    x_gpu = x_cpu.to(device)\n",
    "    print(f\"Tensor moved from CPU to GPU: {x_gpu}\")\n",
    "    \n",
    "    # Move tensor back to CPU\n",
    "    x_cpu_again = x_gpu.cpu()\n",
    "    print(f\"Tensor moved back to CPU: {x_cpu_again}\")\n",
    "else:\n",
    "    print(\"CUDA not available. Using CPU only.\")\n",
    "    device = torch.device(\"cpu\")\n",
    "    x = torch.tensor([1, 2, 3])\n",
    "    print(f\"Tensor on CPU: {x}\")"
   ]
  },
  {
   "cell_type": "markdown",
   "metadata": {},
   "source": [
    "## 5. Computational Graphs\n",
    "\n",
    "PyTorch uses a dynamic computational graph, which means the graph is built on-the-fly as operations are executed."
   ]
  },
  {
   "cell_type": "code",
   "execution_count": 58,
   "metadata": {},
   "outputs": [
    {
     "name": "stdout",
     "output_type": "stream",
     "text": [
      "x = 2.0\n",
      "y = 3.0\n",
      "z = x^2 + y^3 = 31.0\n",
      "Gradient of z with respect to x (dz/dx): 4.0\n",
      "Gradient of z with respect to y (dz/dy): 27.0\n"
     ]
    }
   ],
   "source": [
    "# Create tensors with requires_grad=True to track operations\n",
    "x = torch.tensor(2.0, requires_grad=True)\n",
    "y = torch.tensor(3.0, requires_grad=True)\n",
    "\n",
    "print(f\"x = {x}\")\n",
    "print(f\"y = {y}\")\n",
    "\n",
    "# Build a computational graph\n",
    "z = x**2 + y**3\n",
    "print(f\"z = x^2 + y^3 = {z}\")\n",
    "\n",
    "# Compute gradients\n",
    "z.backward()\n",
    "\n",
    "# Access gradients\n",
    "print(f\"Gradient of z with respect to x (dz/dx): {x.grad}\")\n",
    "print(f\"Gradient of z with respect to y (dz/dy): {y.grad}\")"
   ]
  },
  {
   "cell_type": "code",
   "execution_count": 59,
   "metadata": {},
   "outputs": [
    {
     "name": "stdout",
     "output_type": "stream",
     "text": [
      "Gradient accumulation:\n",
      "After zeroing gradients:\n",
      "x.grad = 0.0\n",
      "y.grad = 0.0\n",
      "\n",
      "After first backward pass:\n",
      "x.grad = 4.0\n",
      "\n",
      "After second backward pass (gradients are accumulated):\n",
      "x.grad = 8.0\n"
     ]
    }
   ],
   "source": [
    "#这里主要讲梯度是累加的\n",
    "# pyTorch 中 .backward() 会覆盖 .grad 吗？\t❌ 不会，它是累加的\n",
    "# 为什么是累加？\t为了支持梯度累加训练（模拟大 batch）\n",
    "# 如何手动清除旧梯度？\t用 .grad.zero_() 或 optimizer.zero_grad()\n",
    "# 如果忘记清零，会出什么错？\t梯度不断累积，导致参数更新过大，模型不收敛\n",
    "\n",
    "# Gradient accumulation\n",
    "print(\"Gradient accumulation:\")\n",
    "\n",
    "# Reset gradients\n",
    "x.grad.zero_()\n",
    "y.grad.zero_()\n",
    "print(f\"After zeroing gradients:\")\n",
    "print(f\"x.grad = {x.grad}\")\n",
    "print(f\"y.grad = {y.grad}\")\n",
    "\n",
    "# Compute gradients multiple times\n",
    "z = x**2 + y**3\n",
    "z.backward()\n",
    "print(f\"\\nAfter first backward pass:\")\n",
    "print(f\"x.grad = {x.grad}\")\n",
    "\n",
    "z = x**2 + y**3\n",
    "z.backward()\n",
    "print(f\"\\nAfter second backward pass (gradients are accumulated):\")\n",
    "print(f\"x.grad = {x.grad}\")"
   ]
  },
  {
   "cell_type": "code",
   "execution_count": 60,
   "metadata": {},
   "outputs": [
    {
     "name": "stdout",
     "output_type": "stream",
     "text": [
      "Detached tensor a = 2.0\n",
      "a.requires_grad = False\n"
     ]
    }
   ],
   "source": [
    "# Detach a tensor from the graph\n",
    "a = x.detach()\n",
    "print(f\"Detached tensor a = {a}\")\n",
    "print(f\"a.requires_grad = {a.requires_grad}\")"
   ]
  },
  {
   "cell_type": "markdown",
   "metadata": {},
   "source": [
    "## 6. Visualization Example\n",
    "\n",
    "Let's visualize a simple function and its gradient using PyTorch."
   ]
  },
  {
   "cell_type": "code",
   "execution_count": 61,
   "metadata": {},
   "outputs": [
    {
     "data": {
      "image/png": "[encoded data removed]",
      "text/plain": [
       "<Figure size 1000x600 with 1 Axes>"
      ]
     },
     "metadata": {},
     "output_type": "display_data"
    }
   ],
   "source": [
    "# Create a range of x values\n",
    "x_range = torch.linspace(-3, 3, 100, requires_grad=True)\n",
    "\n",
    "# Define a function: f(x) = x^2\n",
    "y = x_range**2\n",
    "\n",
    "# Compute gradients for each x value\n",
    "gradients = []\n",
    "for i in range(len(x_range)):\n",
    "    if x_range.grad is not None:\n",
    "        x_range.grad.zero_()\n",
    "    y_i = x_range[i]**2\n",
    "    y_i.backward(retain_graph=True)\n",
    "    gradients.append(x_range.grad[i].item())\n",
    "\n",
    "# Convert to NumPy for plotting\n",
    "x_np = x_range.detach().numpy()\n",
    "y_np = y.detach().numpy()\n",
    "gradients_np = np.array(gradients)\n",
    "\n",
    "# Plot the function and its gradient\n",
    "plt.figure(figsize=(10, 6))\n",
    "plt.plot(x_np, y_np, 'b-', label='f(x) = x^2')\n",
    "plt.plot(x_np, gradients_np, 'r-', label=\"f'(x) = 2x\")\n",
    "plt.grid(True)\n",
    "plt.axhline(y=0, color='k', linestyle='-', alpha=0.3)\n",
    "plt.axvline(x=0, color='k', linestyle='-', alpha=0.3)\n",
    "plt.xlabel('x')\n",
    "plt.ylabel('y')\n",
    "plt.title('Function and its Gradient')\n",
    "plt.legend()\n",
    "plt.show()"
   ]
  },
  {
   "cell_type": "markdown",
   "metadata": {},
   "source": [
    "## 7. 🔍 PyTorch 中的 `contiguous()` 可视化与练习\n",
    "\n",
    "本 notebook 用于帮助理解 `contiguous()` 的含义、为什么某些操作后张量不是连续的、以及 `.view()` 报错的常见原因。"
   ]
  },
  {
   "cell_type": "code",
   "execution_count": 62,
   "metadata": {},
   "outputs": [
    {
     "data": {
      "text/plain": [
       "'2.1.2+cu121'"
      ]
     },
     "execution_count": 62,
     "metadata": {},
     "output_type": "execute_result"
    }
   ],
   "source": [
    "import torch\n",
    "import matplotlib.pyplot as plt\n",
    "import seaborn as sns\n",
    "import numpy as np\n",
    "\n",
    "sns.set_theme()\n",
    "torch.__version__"
   ]
  },
  {
   "cell_type": "markdown",
   "metadata": {},
   "source": [
    "### 🧩 Step 1: 创建一个简单二维张量\n"
   ]
  },
  {
   "cell_type": "code",
   "execution_count": 63,
   "metadata": {},
   "outputs": [
    {
     "name": "stdout",
     "output_type": "stream",
     "text": [
      "Original Tensor x:\n",
      "tensor([[1, 2, 3],\n",
      "        [4, 5, 6]])\n",
      "Shape: torch.Size([2, 3]), is_contiguous: True\n",
      "Stride: (3, 1)\n"
     ]
    }
   ],
   "source": [
    "x = torch.tensor([[1, 2, 3],\n",
    "                  [4, 5, 6]])\n",
    "print(\"Original Tensor x:\")\n",
    "print(x)\n",
    "print(f\"Shape: {x.shape}, is_contiguous: {x.is_contiguous()}\")\n",
    "print(f\"Stride: {x.stride()}\")"
   ]
  },
  {
   "cell_type": "markdown",
   "metadata": {},
   "source": [
    "### 🔁 Step 2: Transpose 后的张量，是否连续？\n",
    "\n",
    "不连续的原因是它并没有改变内存排序，所以就是是跳跃着取数的，是不连续的"
   ]
  },
  {
   "cell_type": "code",
   "execution_count": 64,
   "metadata": {},
   "outputs": [
    {
     "name": "stdout",
     "output_type": "stream",
     "text": [
      "\n",
      "Transposed Tensor x_t:\n",
      "tensor([[1, 4],\n",
      "        [2, 5],\n",
      "        [3, 6]])\n",
      "Shape: torch.Size([3, 2]), is_contiguous: False\n",
      "Stride: (1, 3)\n"
     ]
    }
   ],
   "source": [
    "x_t = x.transpose(0, 1)\n",
    "print(\"\\nTransposed Tensor x_t:\")\n",
    "print(x_t)\n",
    "print(f\"Shape: {x_t.shape}, is_contiguous: {x_t.is_contiguous()}\")\n",
    "print(f\"Stride: {x_t.stride()}\")"
   ]
  },
  {
   "cell_type": "markdown",
   "metadata": {},
   "source": [
    "### ❌ Step 3: 尝试对转置张量使用 `.view()`"
   ]
  },
  {
   "cell_type": "code",
   "execution_count": 65,
   "metadata": {},
   "outputs": [
    {
     "name": "stdout",
     "output_type": "stream",
     "text": [
      "Error: view size is not compatible with input tensor's size and stride (at least one dimension spans across two contiguous subspaces). Use .reshape(...) instead.\n"
     ]
    }
   ],
   "source": [
    "try:\n",
    "    print(x_t.view(-1))\n",
    "except RuntimeError as e:\n",
    "    print(f\"Error: {e}\")"
   ]
  },
  {
   "cell_type": "markdown",
   "metadata": {},
   "source": [
    "### ✅ Step 4: 使用 `.contiguous()` 让内存变连续后再 view\n"
   ]
  },
  {
   "cell_type": "code",
   "execution_count": 66,
   "metadata": {},
   "outputs": [
    {
     "name": "stdout",
     "output_type": "stream",
     "text": [
      "After contiguous: is_contiguous: True\n",
      "Stride: (2, 1)\n",
      "view as 1D: tensor([1, 4, 2, 5, 3, 6])\n"
     ]
    }
   ],
   "source": [
    "x_c = x_t.contiguous()\n",
    "print(f\"After contiguous: is_contiguous: {x_c.is_contiguous()}\")\n",
    "print(f\"Stride: {x_c.stride()}\")\n",
    "print(\"view as 1D:\", x_c.view(-1))"
   ]
  },
  {
   "cell_type": "markdown",
   "metadata": {},
   "source": [
    "## 8. torch 的广播机制\n",
    "\n",
    "广播机制的本质是在缺少的维度上进行复制，然后进行运算。"
   ]
  },
  {
   "cell_type": "code",
   "execution_count": 81,
   "metadata": {},
   "outputs": [
    {
     "name": "stdout",
     "output_type": "stream",
     "text": [
      "x.shape = torch.Size([3, 1, 5])\n",
      ",x = tensor([[[0., 0., 0., 0., 0.]],\n",
      "\n",
      "        [[0., 0., 0., 0., 0.]],\n",
      "\n",
      "        [[0., 0., 0., 0., 0.]]])\n",
      "y.shape = torch.Size([1, 4, 1])\n",
      ",y = tensor([[[0.0275],\n",
      "         [0.5113],\n",
      "         [0.4481],\n",
      "         [0.4925]]])\n",
      "x + y = tensor([[[0.0275, 0.0275, 0.0275, 0.0275, 0.0275],\n",
      "         [0.5113, 0.5113, 0.5113, 0.5113, 0.5113],\n",
      "         [0.4481, 0.4481, 0.4481, 0.4481, 0.4481],\n",
      "         [0.4925, 0.4925, 0.4925, 0.4925, 0.4925]],\n",
      "\n",
      "        [[0.0275, 0.0275, 0.0275, 0.0275, 0.0275],\n",
      "         [0.5113, 0.5113, 0.5113, 0.5113, 0.5113],\n",
      "         [0.4481, 0.4481, 0.4481, 0.4481, 0.4481],\n",
      "         [0.4925, 0.4925, 0.4925, 0.4925, 0.4925]],\n",
      "\n",
      "        [[0.0275, 0.0275, 0.0275, 0.0275, 0.0275],\n",
      "         [0.5113, 0.5113, 0.5113, 0.5113, 0.5113],\n",
      "         [0.4481, 0.4481, 0.4481, 0.4481, 0.4481],\n",
      "         [0.4925, 0.4925, 0.4925, 0.4925, 0.4925]]])\n",
      "x + y = tensor([[[0.0275, 0.0275, 0.0275, 0.0275, 0.0275],\n",
      "         [0.5113, 0.5113, 0.5113, 0.5113, 0.5113],\n",
      "         [0.4481, 0.4481, 0.4481, 0.4481, 0.4481],\n",
      "         [0.4925, 0.4925, 0.4925, 0.4925, 0.4925]],\n",
      "\n",
      "        [[0.0275, 0.0275, 0.0275, 0.0275, 0.0275],\n",
      "         [0.5113, 0.5113, 0.5113, 0.5113, 0.5113],\n",
      "         [0.4481, 0.4481, 0.4481, 0.4481, 0.4481],\n",
      "         [0.4925, 0.4925, 0.4925, 0.4925, 0.4925]],\n",
      "\n",
      "        [[0.0275, 0.0275, 0.0275, 0.0275, 0.0275],\n",
      "         [0.5113, 0.5113, 0.5113, 0.5113, 0.5113],\n",
      "         [0.4481, 0.4481, 0.4481, 0.4481, 0.4481],\n",
      "         [0.4925, 0.4925, 0.4925, 0.4925, 0.4925]]])\n"
     ]
    }
   ],
   "source": [
    "x = torch.zeros(3, 1, 5)\n",
    "y = torch.rand(1,4,1)\n",
    "print(f\"x.shape = {x.shape}\\n,x = {x}\")\n",
    "print(f\"y.shape = {y.shape}\\n,y = {y}\")\n",
    "z = x + y\n",
    "print(f\"x + y = {z}\")\n",
    "print(f\"x + y = {z}\")\n"
   ]
  },
  {
   "cell_type": "markdown",
   "metadata": {},
   "source": [
    "## 9.einsum in PyTorch\n",
    "这个虽然使用方便，但是他没有像transpose等一样经过优化。比如blas\n",
    "\n",
    "### ✅ 示例 1：Batch 矩阵乘法（简化 BMM）"
   ]
  },
  {
   "cell_type": "code",
   "execution_count": 90,
   "metadata": {},
   "outputs": [
    {
     "name": "stdout",
     "output_type": "stream",
     "text": [
      "x * y = tensor([[ 0.9745,  2.8472, -3.4511, -0.8598],\n",
      "        [ 4.7670,  4.5389, -0.4586, -0.0998],\n",
      "        [-6.8586, -5.1635, -3.1384,  5.0055],\n",
      "        [ 2.8970, -0.7192,  4.3209, -2.5301],\n",
      "        [-3.2186, -1.9910, -1.0683,  2.2921],\n",
      "        [-0.3722,  1.3037, -2.2153,  0.8561],\n",
      "        [ 2.7596,  1.6899,  0.4614, -2.4356],\n",
      "        [ 2.2115,  0.6339,  1.6592, -2.9178],\n",
      "        [-3.1783, -1.5980, -2.6014,  2.2551],\n",
      "        [-2.0502, -1.4851, -1.6641,  0.8471]])\n",
      "ij,jk->ik = tensor([[ 0.9745,  2.8472, -3.4511, -0.8598],\n",
      "        [ 4.7670,  4.5389, -0.4586, -0.0998],\n",
      "        [-6.8586, -5.1635, -3.1384,  5.0055],\n",
      "        [ 2.8970, -0.7192,  4.3209, -2.5301],\n",
      "        [-3.2186, -1.9910, -1.0683,  2.2921],\n",
      "        [-0.3722,  1.3037, -2.2153,  0.8561],\n",
      "        [ 2.7596,  1.6899,  0.4614, -2.4356],\n",
      "        [ 2.2115,  0.6339,  1.6592, -2.9178],\n",
      "        [-3.1783, -1.5980, -2.6014,  2.2551],\n",
      "        [-2.0502, -1.4851, -1.6641,  0.8471]])\n",
      "a = tensor([1.4838, 2.0109, 2.4800])\n",
      "b = tensor([ 0.8386,  0.4334, -1.7904,  2.0765])\n",
      "a.shape = torch.Size([3])\n",
      "b.shape = torch.Size([4])\n",
      "a.unsqueeze(1) * b = tensor([[ 1.2443,  0.6430, -2.6566,  3.0810],\n",
      "        [ 1.6864,  0.8715, -3.6004,  4.1757],\n",
      "        [ 2.0799,  1.0748, -4.4404,  5.1498]])\n",
      "i,j->ij = tensor([[ 1.2443,  0.6430, -2.6566,  3.0810],\n",
      "        [ 1.6864,  0.8715, -3.6004,  4.1757],\n",
      "        [ 2.0799,  1.0748, -4.4404,  5.1498]])\n"
     ]
    }
   ],
   "source": [
    "#矩阵相乘\n",
    "x = torch.randn(10, 5)\n",
    "y = torch.randn(5, 4)\n",
    "out1 = torch.matmul(x, y)\n",
    "out2 = torch.einsum('ij,jk->ik', x, y)\n",
    "print(f\"x * y = {out1}\")\n",
    "print(f\"ij,jk->ik = {out2}\")\n",
    "\n",
    "#batch 矩阵相乘\n",
    "a = torch.randn(10, 3, 4)  # batch = 10, A: [3×4]\n",
    "b = torch.randn(10, 4, 5)  # batch = 10, B: [4×5]\n",
    "out = torch.einsum('bij,bjk->bik', a, b)\n",
    "\n",
    "\n"
   ]
  },
  {
   "cell_type": "markdown",
   "metadata": {},
   "source": [
    "### ✅ 示例 2与3：向量的内、外积"
   ]
  },
  {
   "cell_type": "code",
   "execution_count": null,
   "metadata": {},
   "outputs": [],
   "source": [
    "#向量的内积\n",
    "#在 PyTorch 中，向量的内积（dot product） 是一种基本的张量操作，表示两个向量对应位置元素乘积的总和，形式为：\n",
    "# dot(𝑎,𝑏)=∑i 𝑎𝑖 ⋅ 𝑏𝑖\n",
    "a = torch.randn(5)\n",
    "b = torch.randn(5)\n",
    "# print(f\"a = {a}\")\n",
    "# print(f\"b = {b}\")\n",
    "# print(f\"a * b = {torch.dot(a, b)}\")\n",
    "out = torch.einsum('i,i->', a, b)\n",
    "# print(f\"i,i-> = {out}\")\n",
    "\n",
    "#向量的外积\n",
    "a = torch.randn(3)\n",
    "b = torch.randn(4)\n",
    "print(f\"a = {a}\")\n",
    "print(f\"b = {b}\")\n",
    "print(f\"a.shape = {a.shape}\")\n",
    "print(f\"b.shape = {b.shape}\")\n",
    "out = torch.einsum('i,j->ij', a, b)\n",
    "# a.unsqueeze(1) 把 a 变成 [3, 1]；\n",
    "\n",
    "# b 是 [4]，在乘法中自动广播成 [1, 4]；\n",
    "\n",
    "# 二者按广播规则扩展为 [3, 4] 后逐元素相乘；\n",
    "print(f\"a.unsqueeze(1) * b = {a.unsqueeze(1) * b}\")\n",
    "print(f\"i,j->ij = {out}\")\n",
    "\n",
    "\n"
   ]
  },
  {
   "cell_type": "markdown",
   "metadata": {},
   "source": [
    "### ✅ 示例 4：加权求和（Weighted Sum）"
   ]
  },
  {
   "cell_type": "code",
   "execution_count": 92,
   "metadata": {},
   "outputs": [
    {
     "name": "stdout",
     "output_type": "stream",
     "text": [
      "values = tensor([[1., 2., 3.],\n",
      "        [4., 5., 6.]])\n",
      "weights = tensor([0.1000, 0.2000, 0.7000])\n",
      "out = tensor([2.6000, 5.6000])\n"
     ]
    }
   ],
   "source": [
    "\n",
    "values = torch.tensor([[1., 2., 3.],\n",
    "                       [4., 5., 6.]])    # shape (2, 3)\n",
    "weights = torch.tensor([0.1, 0.2, 0.7])  # shape (3,)\n",
    "out = torch.einsum('ij,j->i', values, weights)\n",
    "print(f\"values = {values}\")\n",
    "print(f\"weights = {weights}\")\n",
    "print(f\"out = {out}\")"
   ]
  },
  {
   "cell_type": "markdown",
   "metadata": {},
   "source": [
    "### ✅ 示例 5：注意力机制核心操作（Query × Key"
   ]
  },
  {
   "cell_type": "code",
   "execution_count": 94,
   "metadata": {},
   "outputs": [
    {
     "name": "stdout",
     "output_type": "stream",
     "text": [
      "torch.Size([2, 3, 4])\n",
      "tensor([[[ 1.9971, -0.4477, -0.9091, -0.2580],\n",
      "         [ 0.3112,  1.7160,  0.3975, -1.6764],\n",
      "         [-1.0664, -4.3187, -2.1387, -2.8906]],\n",
      "\n",
      "        [[ 0.2914,  0.5219, -3.1450, -4.9806],\n",
      "         [ 0.1149,  1.1184, -1.3343, -3.4568],\n",
      "         [ 0.1424,  0.7864, -1.0602, -1.0277]]])\n",
      "torch.Size([2, 3, 4])\n",
      "torch.Size([2, 4, 4])\n"
     ]
    }
   ],
   "source": [
    "Q = torch.randn(2, 3, 4)  # [batch, heads, dim]\n",
    "K = torch.randn(2, 4, 4)  # [batch, dim, seq_len]\n",
    "scores = torch.einsum('bhd,bdk->bhk', Q, K)\n",
    "print(scores.shape)\n",
    "print(scores)\n",
    "print(Q.shape)\n",
    "print(K.shape)\n"
   ]
  },
  {
   "cell_type": "markdown",
   "metadata": {},
   "source": [
    "### ✅ 示例 6：Transpose"
   ]
  },
  {
   "cell_type": "code",
   "execution_count": 95,
   "metadata": {},
   "outputs": [],
   "source": [
    "A = torch.randn(3, 4, 5)\n",
    "A_T = torch.einsum('ijk->ikj', A)  # 转置\n"
   ]
  },
  {
   "cell_type": "markdown",
   "metadata": {},
   "source": [
    "## 10. gather and scatter\n",
    "\n",
    "torch.gather 是 PyTorch 中一个非常有用的操作，它的作用是：根据给定的索引张量，从原始张量中“有选择性地”提取元素。它广泛用于排序、Top-K 筛选、序列处理、注意力机制等场景中。"
   ]
  },
  {
   "cell_type": "code",
   "execution_count": 98,
   "metadata": {},
   "outputs": [
    {
     "name": "stdout",
     "output_type": "stream",
     "text": [
      "tpk-2:  torch.return_types.topk(\n",
      "values=tensor([[2.4000, 1.2000],\n",
      "        [4.8000, 3.2000]]),\n",
      "indices=tensor([[1, 0],\n",
      "        [2, 0]]))\n",
      "gather:  tensor([[2.4000, 1.2000],\n",
      "        [4.8000, 3.2000]])\n"
     ]
    }
   ],
   "source": [
    "scores = torch.tensor([[1.2, 2.4, 0.8],\n",
    "                       [3.2, 1.1, 4.8]])\n",
    "top2 = torch.topk(scores, 2, dim=1) #一行列，对列的方向进行操作，每一列的数组中取出前两个\n",
    "print(\"tpk-2: \", top2)\n",
    "indices = top2.indices\n",
    "values = torch.gather(scores, 1, indices)\n",
    "print(\"gather: \", values)\n"
   ]
  },
  {
   "cell_type": "markdown",
   "metadata": {},
   "source": [
    "## 11. .chunk()、.split() 与 .unfold() 的对比与使用说明"
   ]
  },
  {
   "cell_type": "code",
   "execution_count": 101,
   "metadata": {},
   "outputs": [
    {
     "name": "stdout",
     "output_type": "stream",
     "text": [
      "(tensor([0, 1, 2, 3]), tensor([4, 5, 6, 7]), tensor([8, 9]))\n",
      "tensor([[0, 1, 2],\n",
      "        [2, 3, 4],\n",
      "        [4, 5, 6],\n",
      "        [6, 7, 8]])\n",
      "(tensor([0, 1, 2]), tensor([3, 4, 5]), tensor([6, 7, 8]), tensor([9]))\n"
     ]
    }
   ],
   "source": [
    "x = torch.arange(10)  # 生成一维张量 [0, 1, 2, ..., 9]\n",
    "chunks = torch.chunk(x, 3)\n",
    "#执行 torch.chunk(x, 3) 的含义是：将张量 x 尽可能平均地划分为 3 个子张量。由于原始张量长度为 10，不能被 3 整除\n",
    "print(chunks)\n",
    "windows = x.unfold(0, size=3, step=2)\n",
    "print(windows)\n",
    "split_res= x.split(3,0)\n",
    "print(split_res)"
   ]
  },
  {
   "cell_type": "markdown",
   "metadata": {},
   "source": [
    "## 12.维度变化：Reshape, View, Squeeze, Unsqueeze, Permute "
   ]
  },
  {
   "cell_type": "code",
   "execution_count": 103,
   "metadata": {},
   "outputs": [
    {
     "name": "stdout",
     "output_type": "stream",
     "text": [
      "torch.Size([2, 4, 15])\n"
     ]
    }
   ],
   "source": [
    "# x.shape = (2, 3, 4, 5)\n",
    "\n",
    "# .permute(0, 2, 3, 1) → shape: (2, 4, 5, 3)\n",
    "\n",
    "# .reshape(2, 4, -1) → (2, 4, 15)\n",
    "\n",
    "x = torch.randn(2, 3, 4, 5)\n",
    "y = x.permute(0, 2, 3, 1).reshape(2, 4, -1)\n",
    "\n",
    "print(y.shape)\n"
   ]
  },
  {
   "cell_type": "markdown",
   "metadata": {},
   "source": [
    "## 13. where/masked_fill/clamp\n",
    "\n",
    "| 函数           | 功能                         | 输入              | 结果                          | 用途举例                           |\n",
    "|----------------|------------------------------|-------------------|-------------------------------|------------------------------------|\n",
    "| `torch.where`  | 条件选择（选择 a 或 b）      | condition, a, b   | shape 与 a/b 相同             | 缺失值处理、条件判断               |\n",
    "| `masked_fill`  | 用标量填充 mask=True 的位置  | mask, value       | 替换指定元素为常量            | 屏蔽 attention 中无效 token        |\n",
    "| `clamp`        | 限制取值范围                 | min, max          | 值控制在[min, max]范围内       | 值归一、限制异常梯度               |\n"
   ]
  },
  {
   "cell_type": "code",
   "execution_count": 105,
   "metadata": {},
   "outputs": [
    {
     "name": "stdout",
     "output_type": "stream",
     "text": [
      "tensor([[      nan,   -2.0000,    0.5000],\n",
      "        [   3.0000,  100.0000, -100.0000]])\n",
      "tensor([[ 0.0000, -1.0000,  0.5000],\n",
      "        [ 1.0000,  1.0000, -1.0000]])\n",
      "tensor([[ 1, -1],\n",
      "        [ 3, -1]])\n"
     ]
    }
   ],
   "source": [
    "x = torch.tensor([[float('nan'), -2.0, 0.5],\n",
    "                  [3.0, 100.0, -100.0]])\n",
    "print(x)\n",
    "\n",
    "# 目标：先将 nan 替换为 0，然后将所有值限制在 [-1, 1]\n",
    "x_clean = torch.where(torch.isnan(x), torch.zeros_like(x), x)\n",
    "x_clamped = torch.clamp(x_clean, min=-1.0, max=1.0)\n",
    "print(x_clamped)\n",
    "\n",
    "x = torch.tensor([[1, 2], [3, 4]])\n",
    "mask = torch.tensor([[False, True], [False, True]])\n",
    "y = x.masked_fill(mask, -1)\n",
    "print(y)\n",
    "\n"
   ]
  }
 ],
 "metadata": {
  "kernelspec": {
   "display_name": "Python 3",
   "language": "python",
   "name": "python3"
  },
  "language_info": {
   "codemirror_mode": {
    "name": "ipython",
    "version": 3
   },
   "file_extension": ".py",
   "mimetype": "text/x-python",
   "name": "python",
   "nbconvert_exporter": "python",
   "pygments_lexer": "ipython3",
   "version": "3.10.18"
  }
 },
 "nbformat": 4,
 "nbformat_minor": 4
}
